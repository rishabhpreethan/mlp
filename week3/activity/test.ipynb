{
 "cells": [
  {
   "cell_type": "code",
   "execution_count": 2,
   "metadata": {},
   "outputs": [
    {
     "data": {
      "text/plain": [
       "array([[4. , 6.7],\n",
       "       [4. , 8.5]])"
      ]
     },
     "execution_count": 2,
     "metadata": {},
     "output_type": "execute_result"
    }
   ],
   "source": [
    "data = [{'#courses_opted': 4, 'GPA': 6.7},{'#courses_opted': 4, 'GPA': 8.5},\n",
    "         {'#courses_opted': 2, 'GPA': 8.1},{'#courses_opted': 1, 'GPA': 7.2}, \n",
    "         {'#courses_opted': 1, 'GPA': 9.1}]\n",
    "\n",
    "from sklearn.feature_extraction import DictVectorizer \n",
    "dv = DictVectorizer(sparse=False)\n",
    "data_transformed = dv.fit_transform(data)\n",
    "data_transformed[:2]"
   ]
  },
  {
   "cell_type": "code",
   "execution_count": 8,
   "metadata": {},
   "outputs": [
    {
     "name": "stdout",
     "output_type": "stream",
     "text": [
      "[[4. 1.]\n",
      " [6. 5.]\n",
      " [8. 0.]]\n"
     ]
    }
   ],
   "source": [
    "import numpy as np\n",
    "from sklearn.impute import SimpleImputer\n",
    "\n",
    "# Corrected parameter names and values\n",
    "imp = SimpleImputer(missing_values=np.nan, strategy='median')\n",
    "\n",
    "# Data with a missing value\n",
    "X = [[4, 1], [np.nan, 5], [8, 0]]\n",
    "\n",
    "# Fit and transform the data\n",
    "X_transformed = imp.fit_transform(X)\n",
    "\n",
    "# Print the transformed data\n",
    "print(X_transformed)\n"
   ]
  }
 ],
 "metadata": {
  "kernelspec": {
   "display_name": "Python 3",
   "language": "python",
   "name": "python3"
  },
  "language_info": {
   "codemirror_mode": {
    "name": "ipython",
    "version": 3
   },
   "file_extension": ".py",
   "mimetype": "text/x-python",
   "name": "python",
   "nbconvert_exporter": "python",
   "pygments_lexer": "ipython3",
   "version": "3.11.3"
  }
 },
 "nbformat": 4,
 "nbformat_minor": 2
}
